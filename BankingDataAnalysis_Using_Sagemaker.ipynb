{
 "cells": [
  {
   "cell_type": "code",
   "execution_count": 66,
   "id": "3c07230c",
   "metadata": {},
   "outputs": [],
   "source": [
    "import numpy as np\n",
    "import pandas as pd\n",
    "import urllib\n",
    "import sagemaker\n",
    "import boto3\n",
    "from sklearn.model_selection import train_test_split\n",
    "from sagemaker.amazon.amazon_estimator import get_image_uri\n",
    "from sagemaker.session import s3_input, Session\n",
    "import os\n",
    "from sagemaker.serializers import CSVSerializer"
   ]
  },
  {
   "cell_type": "code",
   "execution_count": 9,
   "id": "9156515b",
   "metadata": {},
   "outputs": [],
   "source": [
    "bucket_name=\"machine-learning-hard-parikh\"\n",
    "my_region=boto3.session.Session().region_name"
   ]
  },
  {
   "cell_type": "code",
   "execution_count": 15,
   "id": "f67e98d8",
   "metadata": {},
   "outputs": [],
   "source": [
    "s3=boto3.resource('s3')\n",
    "try:\n",
    "    if my_region=='us-west-2':\n",
    "        s3.create_bucket(Bucket=bucket_name,CreateBucketConfiguration={\n",
    "                             'LocationConstraint': my_region\n",
    "                         })\n",
    "    print(\"Bucket successfully created\")\n",
    "except Exception as e:\n",
    "    print(\"Error:\",e)"
   ]
  },
  {
   "cell_type": "code",
   "execution_count": 16,
   "id": "68d5f11c",
   "metadata": {},
   "outputs": [
    {
     "name": "stdout",
     "output_type": "stream",
     "text": [
      "s3://machine-learning-hard-parikh/xgboost-as-a-built-in-algo/output\n"
     ]
    }
   ],
   "source": [
    "prefix = 'xgboost-as-a-built-in-algo'\n",
    "output_path ='s3://{}/{}/output'.format(bucket_name, prefix)\n",
    "print(output_path)"
   ]
  },
  {
   "cell_type": "code",
   "execution_count": 18,
   "id": "cf24a2bc",
   "metadata": {},
   "outputs": [
    {
     "name": "stdout",
     "output_type": "stream",
     "text": [
      "Success: downloaded bank_clean.csv.\n",
      "Success: Data loaded into dataframe.\n"
     ]
    }
   ],
   "source": [
    "try:\n",
    "    urllib.request.urlretrieve (\"https://d1.awsstatic.com/tmt/build-train-deploy-machine-learning-model-sagemaker/bank_clean.27f01fbbdf43271788427f3682996ae29ceca05d.csv\", \"bank_clean.csv\")\n",
    "    print('Success: downloaded bank_clean.csv.')\n",
    "except Exception as e:\n",
    "    print('Data load error: ',e)\n",
    "\n",
    "try:\n",
    "    model_data = pd.read_csv('./bank_clean.csv',index_col=0)\n",
    "    print('Success: Data loaded into dataframe.')\n",
    "except Exception as e:\n",
    "    print('Data load error: ',e)"
   ]
  },
  {
   "cell_type": "code",
   "execution_count": 47,
   "id": "3173c37d",
   "metadata": {},
   "outputs": [
    {
     "data": {
      "text/plain": [
       "((28831, 61), (12357, 61))"
      ]
     },
     "execution_count": 47,
     "metadata": {},
     "output_type": "execute_result"
    }
   ],
   "source": [
    "train_data,test_data=train_test_split(model_data,test_size=0.3,random_state=42)\n",
    "train_data.shape,test_data.shape"
   ]
  },
  {
   "cell_type": "code",
   "execution_count": 52,
   "id": "90e20565",
   "metadata": {},
   "outputs": [],
   "source": [
    "pd.concat([train_data['y_yes'],train_data.drop(['y_yes','y_no'],axis=1)],axis=1).to_csv('train.csv',index=False,header=False)\n",
    "boto3.Session().resource('s3').Bucket(bucket_name).Object(os.path.join(prefix,'train/train.csv')).upload_file('train.csv')\n",
    "s3_input_train=sagemaker.TrainingInput(s3_data='s3://{}/{}/train'.format(bucket_name,prefix),content_type='csv')"
   ]
  },
  {
   "cell_type": "code",
   "execution_count": 57,
   "id": "883f3ec1",
   "metadata": {},
   "outputs": [],
   "source": [
    "pd.concat([test_data['y_yes'],test_data.drop(['y_yes','y_no'],axis=1)],axis=1).to_csv('test.csv',index=False,header=False)\n",
    "boto3.Session().resource('s3').Bucket(bucket_name).Object(os.path.join(prefix,'test/test.csv')).upload_file('test.csv')\n",
    "s3_input_test=sagemaker.TrainingInput(s3_data='s3://{}/{}/test'.format(bucket_name,prefix),content_type='csv')"
   ]
  },
  {
   "cell_type": "code",
   "execution_count": 58,
   "id": "7000a343",
   "metadata": {},
   "outputs": [
    {
     "name": "stderr",
     "output_type": "stream",
     "text": [
      "The method get_image_uri has been renamed in sagemaker>=2.\n",
      "See: https://sagemaker.readthedocs.io/en/stable/v2.html for details.\n"
     ]
    }
   ],
   "source": [
    "container = get_image_uri(boto3.Session().region_name,\n",
    "                          'xgboost', \n",
    "                          repo_version='1.0-1')"
   ]
  },
  {
   "cell_type": "code",
   "execution_count": 59,
   "id": "6a09c365",
   "metadata": {},
   "outputs": [],
   "source": [
    "hyperparameters = {\n",
    "        \"max_depth\":\"5\",\n",
    "        \"eta\":\"0.2\",\n",
    "        \"gamma\":\"4\",\n",
    "        \"min_child_weight\":\"6\",\n",
    "        \"subsample\":\"0.7\",\n",
    "        \"objective\":\"binary:logistic\",\n",
    "        \"num_round\":50\n",
    "        }"
   ]
  },
  {
   "cell_type": "code",
   "execution_count": 61,
   "id": "050b1642",
   "metadata": {},
   "outputs": [
    {
     "name": "stderr",
     "output_type": "stream",
     "text": [
      "train_instance_count has been renamed in sagemaker>=2.\n",
      "See: https://sagemaker.readthedocs.io/en/stable/v2.html for details.\n",
      "train_instance_type has been renamed in sagemaker>=2.\n",
      "See: https://sagemaker.readthedocs.io/en/stable/v2.html for details.\n",
      "train_max_run has been renamed in sagemaker>=2.\n",
      "See: https://sagemaker.readthedocs.io/en/stable/v2.html for details.\n",
      "train_use_spot_instances has been renamed in sagemaker>=2.\n",
      "See: https://sagemaker.readthedocs.io/en/stable/v2.html for details.\n",
      "train_max_wait has been renamed in sagemaker>=2.\n",
      "See: https://sagemaker.readthedocs.io/en/stable/v2.html for details.\n",
      "train_volume_size has been renamed in sagemaker>=2.\n",
      "See: https://sagemaker.readthedocs.io/en/stable/v2.html for details.\n"
     ]
    }
   ],
   "source": [
    "estimator = sagemaker.estimator.Estimator(image_uri=container, \n",
    "                                          hyperparameters=hyperparameters,\n",
    "                                          role=sagemaker.get_execution_role(),\n",
    "                                          train_instance_count=1, \n",
    "                                          train_instance_type='ml.m5.2xlarge', \n",
    "                                          train_volume_size=5, # 5 GB \n",
    "                                          output_path=output_path,\n",
    "                                          train_use_spot_instances=True,\n",
    "                                          train_max_run=300,\n",
    "                                          train_max_wait=600)"
   ]
  },
  {
   "cell_type": "code",
   "execution_count": 62,
   "id": "d42fcf21",
   "metadata": {},
   "outputs": [
    {
     "name": "stderr",
     "output_type": "stream",
     "text": [
      "INFO:sagemaker:Creating training-job with name: sagemaker-xgboost-2024-04-06-00-03-01-188\n"
     ]
    },
    {
     "name": "stdout",
     "output_type": "stream",
     "text": [
      "2024-04-06 00:03:01 Starting - Starting the training job...\n",
      "2024-04-06 00:03:25 Starting - Preparing the instances for training...\n",
      "2024-04-06 00:03:59 Downloading - Downloading input data...\n",
      "2024-04-06 00:04:14 Downloading - Downloading the training image...\n",
      "2024-04-06 00:04:39 Training - Training image download completed. Training in progress..\u001b[34m[2024-04-06 00:05:01.297 ip-10-0-117-247.us-west-2.compute.internal:7 INFO utils.py:27] RULE_JOB_STOP_SIGNAL_FILENAME: None\u001b[0m\n",
      "\u001b[34mINFO:sagemaker-containers:Imported framework sagemaker_xgboost_container.training\u001b[0m\n",
      "\u001b[34mINFO:sagemaker-containers:Failed to parse hyperparameter objective value binary:logistic to Json.\u001b[0m\n",
      "\u001b[34mReturning the value itself\u001b[0m\n",
      "\u001b[34mINFO:sagemaker-containers:No GPUs detected (normal if no gpus installed)\u001b[0m\n",
      "\u001b[34mINFO:sagemaker_xgboost_container.training:Running XGBoost Sagemaker in algorithm mode\u001b[0m\n",
      "\u001b[34mINFO:root:Determined delimiter of CSV input is ','\u001b[0m\n",
      "\u001b[34mINFO:root:Determined delimiter of CSV input is ','\u001b[0m\n",
      "\u001b[34mINFO:root:Determined delimiter of CSV input is ','\u001b[0m\n",
      "\u001b[34mINFO:root:Determined delimiter of CSV input is ','\u001b[0m\n",
      "\u001b[34mINFO:root:Single node training.\u001b[0m\n",
      "\u001b[34m[00:05:01] 28831x59 matrix with 1701029 entries loaded from /opt/ml/input/data/train?format=csv&label_column=0&delimiter=,\u001b[0m\n",
      "\u001b[34m[00:05:01] 12357x59 matrix with 729063 entries loaded from /opt/ml/input/data/validation?format=csv&label_column=0&delimiter=,\u001b[0m\n",
      "\u001b[34m[2024-04-06 00:05:01.455 ip-10-0-117-247.us-west-2.compute.internal:7 INFO json_config.py:91] Creating hook from json_config at /opt/ml/input/config/debughookconfig.json.\u001b[0m\n",
      "\u001b[34m[2024-04-06 00:05:01.455 ip-10-0-117-247.us-west-2.compute.internal:7 INFO hook.py:201] tensorboard_dir has not been set for the hook. SMDebug will not be exporting tensorboard summaries.\u001b[0m\n",
      "\u001b[34m[2024-04-06 00:05:01.456 ip-10-0-117-247.us-west-2.compute.internal:7 INFO profiler_config_parser.py:102] User has disabled profiler.\u001b[0m\n",
      "\u001b[34m[2024-04-06 00:05:01.456 ip-10-0-117-247.us-west-2.compute.internal:7 INFO hook.py:255] Saving to /opt/ml/output/tensors\u001b[0m\n",
      "\u001b[34m[2024-04-06 00:05:01.456 ip-10-0-117-247.us-west-2.compute.internal:7 INFO state_store.py:77] The checkpoint config file /opt/ml/input/config/checkpointconfig.json does not exist.\u001b[0m\n",
      "\u001b[34mINFO:root:Debug hook created from config\u001b[0m\n",
      "\u001b[34mINFO:root:Train matrix has 28831 rows\u001b[0m\n",
      "\u001b[34mINFO:root:Validation matrix has 12357 rows\u001b[0m\n",
      "\u001b[34m[00:05:01] WARNING: /workspace/src/learner.cc:328: \u001b[0m\n",
      "\u001b[34mParameters: { num_round } might not be used.\n",
      "  This may not be accurate due to some parameters are only used in language bindings but\n",
      "  passed down to XGBoost core.  Or some parameters are not used but slip through this\n",
      "  verification. Please open an issue if you find above cases.\u001b[0m\n",
      "\u001b[34m[0]#011train-error:0.10118#011validation-error:0.10407\u001b[0m\n",
      "\u001b[34m[2024-04-06 00:05:01.499 ip-10-0-117-247.us-west-2.compute.internal:7 INFO hook.py:423] Monitoring the collections: metrics\u001b[0m\n",
      "\u001b[34m[2024-04-06 00:05:01.501 ip-10-0-117-247.us-west-2.compute.internal:7 INFO hook.py:486] Hook is writing from the hook with pid: 7\u001b[0m\n",
      "\u001b[34m[1]#011train-error:0.10083#011validation-error:0.10269\u001b[0m\n",
      "\u001b[34m[2]#011train-error:0.10121#011validation-error:0.10253\u001b[0m\n",
      "\u001b[34m[3]#011train-error:0.10132#011validation-error:0.10213\u001b[0m\n",
      "\u001b[34m[4]#011train-error:0.10118#011validation-error:0.10205\u001b[0m\n",
      "\u001b[34m[5]#011train-error:0.10076#011validation-error:0.10172\u001b[0m\n",
      "\u001b[34m[6]#011train-error:0.10093#011validation-error:0.10205\u001b[0m\n",
      "\u001b[34m[7]#011train-error:0.10086#011validation-error:0.10205\u001b[0m\n",
      "\u001b[34m[8]#011train-error:0.10052#011validation-error:0.10116\u001b[0m\n",
      "\u001b[34m[9]#011train-error:0.10041#011validation-error:0.10132\u001b[0m\n",
      "\u001b[34m[10]#011train-error:0.10038#011validation-error:0.10148\u001b[0m\n",
      "\u001b[34m[11]#011train-error:0.10014#011validation-error:0.10148\u001b[0m\n",
      "\u001b[34m[12]#011train-error:0.10010#011validation-error:0.10124\u001b[0m\n",
      "\u001b[34m[13]#011train-error:0.10017#011validation-error:0.10124\u001b[0m\n",
      "\u001b[34m[14]#011train-error:0.09979#011validation-error:0.10100\u001b[0m\n",
      "\u001b[34m[15]#011train-error:0.09958#011validation-error:0.10075\u001b[0m\n",
      "\u001b[34m[16]#011train-error:0.09955#011validation-error:0.10067\u001b[0m\n",
      "\u001b[34m[17]#011train-error:0.09955#011validation-error:0.10100\u001b[0m\n",
      "\u001b[34m[18]#011train-error:0.09944#011validation-error:0.10100\u001b[0m\n",
      "\u001b[34m[19]#011train-error:0.09889#011validation-error:0.10100\u001b[0m\n",
      "\u001b[34m[20]#011train-error:0.09861#011validation-error:0.10108\u001b[0m\n",
      "\u001b[34m[21]#011train-error:0.09871#011validation-error:0.10091\u001b[0m\n",
      "\u001b[34m[22]#011train-error:0.09885#011validation-error:0.10108\u001b[0m\n",
      "\u001b[34m[23]#011train-error:0.09868#011validation-error:0.10116\u001b[0m\n",
      "\u001b[34m[24]#011train-error:0.09857#011validation-error:0.10140\u001b[0m\n",
      "\u001b[34m[25]#011train-error:0.09889#011validation-error:0.10124\u001b[0m\n",
      "\u001b[34m[26]#011train-error:0.09906#011validation-error:0.10140\u001b[0m\n",
      "\u001b[34m[27]#011train-error:0.09878#011validation-error:0.10116\u001b[0m\n",
      "\u001b[34m[28]#011train-error:0.09868#011validation-error:0.10108\u001b[0m\n",
      "\u001b[34m[29]#011train-error:0.09878#011validation-error:0.10124\u001b[0m\n",
      "\u001b[34m[30]#011train-error:0.09878#011validation-error:0.10100\u001b[0m\n",
      "\u001b[34m[31]#011train-error:0.09868#011validation-error:0.10132\u001b[0m\n",
      "\u001b[34m[32]#011train-error:0.09864#011validation-error:0.10116\u001b[0m\n",
      "\u001b[34m[33]#011train-error:0.09844#011validation-error:0.10051\u001b[0m\n",
      "\u001b[34m[34]#011train-error:0.09847#011validation-error:0.10100\u001b[0m\n",
      "\u001b[34m[35]#011train-error:0.09833#011validation-error:0.10067\u001b[0m\n",
      "\u001b[34m[36]#011train-error:0.09809#011validation-error:0.10124\u001b[0m\n",
      "\u001b[34m[37]#011train-error:0.09799#011validation-error:0.10148\u001b[0m\n",
      "\u001b[34m[38]#011train-error:0.09757#011validation-error:0.10132\u001b[0m\n",
      "\u001b[34m[39]#011train-error:0.09739#011validation-error:0.10083\u001b[0m\n",
      "\u001b[34m[40]#011train-error:0.09750#011validation-error:0.10091\u001b[0m\n",
      "\u001b[34m[41]#011train-error:0.09750#011validation-error:0.10100\u001b[0m\n",
      "\u001b[34m[42]#011train-error:0.09764#011validation-error:0.10108\u001b[0m\n",
      "\u001b[34m[43]#011train-error:0.09767#011validation-error:0.10108\u001b[0m\n",
      "\u001b[34m[44]#011train-error:0.09757#011validation-error:0.10108\u001b[0m\n",
      "\u001b[34m[45]#011train-error:0.09746#011validation-error:0.10100\u001b[0m\n",
      "\u001b[34m[46]#011train-error:0.09733#011validation-error:0.10124\u001b[0m\n",
      "\u001b[34m[47]#011train-error:0.09733#011validation-error:0.10108\u001b[0m\n",
      "\u001b[34m[48]#011train-error:0.09736#011validation-error:0.10100\u001b[0m\n",
      "\u001b[34m[49]#011train-error:0.09719#011validation-error:0.10108\u001b[0m\n",
      "\n",
      "2024-04-06 00:05:20 Uploading - Uploading generated training model\n",
      "2024-04-06 00:05:20 Completed - Training job completed\n",
      "Training seconds: 81\n",
      "Billable seconds: 29\n",
      "Managed Spot Training savings: 64.2%\n"
     ]
    }
   ],
   "source": [
    "estimator.fit({'train': s3_input_train,'validation': s3_input_test})"
   ]
  },
  {
   "cell_type": "code",
   "execution_count": 63,
   "id": "781241f5",
   "metadata": {},
   "outputs": [
    {
     "name": "stderr",
     "output_type": "stream",
     "text": [
      "INFO:sagemaker:Creating model with name: sagemaker-xgboost-2024-04-06-00-21-40-209\n",
      "INFO:sagemaker:Creating endpoint-config with name sagemaker-xgboost-2024-04-06-00-21-40-209\n",
      "INFO:sagemaker:Creating endpoint with name sagemaker-xgboost-2024-04-06-00-21-40-209\n"
     ]
    },
    {
     "name": "stdout",
     "output_type": "stream",
     "text": [
      "-----!"
     ]
    }
   ],
   "source": [
    "xgb_predictor=estimator.deploy(initial_instance_count=1,instance_type='ml.m4.xlarge')"
   ]
  },
  {
   "cell_type": "code",
   "execution_count": 79,
   "id": "f387b042",
   "metadata": {},
   "outputs": [
    {
     "data": {
      "text/plain": [
       "array([0.08820307, 0.02847173, 0.08207948, ..., 0.03812492, 0.09187825,\n",
       "       0.08279892])"
      ]
     },
     "execution_count": 79,
     "metadata": {},
     "output_type": "execute_result"
    }
   ],
   "source": [
    "test_data_array=test_data.drop(['y_no','y_yes'],axis=1).values\n",
    "xgb_predictor.content_type='text/csv'\n",
    "xgb_predictor.serializer=CSVSerializer()\n",
    "predictions=xgb_predictor.predict(test_data_array).decode('utf-8')\n",
    "predictions_array=np.fromstring(predictions[1:],sep=',')\n",
    "predictions_array"
   ]
  },
  {
   "cell_type": "code",
   "execution_count": 80,
   "id": "bfa7cad8",
   "metadata": {},
   "outputs": [
    {
     "name": "stdout",
     "output_type": "stream",
     "text": [
      "\n",
      "Overall Classification Rate: 89.9%\n",
      "\n",
      "Predicted      No Purchase    Purchase\n",
      "Observed\n",
      "No Purchase    91% (10810)    35% (158)\n",
      "Purchase        9% (1091)     65% (298) \n",
      "\n"
     ]
    }
   ],
   "source": [
    "cm = pd.crosstab(index=test_data['y_yes'], columns=np.round(predictions_array), rownames=['Observed'], colnames=['Predicted'])\n",
    "tn = cm.iloc[0,0]; fn = cm.iloc[1,0]; tp = cm.iloc[1,1]; fp = cm.iloc[0,1]; p = (tp+tn)/(tp+tn+fp+fn)*100\n",
    "print(\"\\n{0:<20}{1:<4.1f}%\\n\".format(\"Overall Classification Rate: \", p))\n",
    "print(\"{0:<15}{1:<15}{2:>8}\".format(\"Predicted\", \"No Purchase\", \"Purchase\"))\n",
    "print(\"Observed\")\n",
    "print(\"{0:<15}{1:<2.0f}% ({2:<}){3:>6.0f}% ({4:<})\".format(\"No Purchase\", tn/(tn+fn)*100,tn, fp/(tp+fp)*100, fp))\n",
    "print(\"{0:<16}{1:<1.0f}% ({2:<}){3:>7.0f}% ({4:<}) \\n\".format(\"Purchase\", fn/(tn+fn)*100,fn, tp/(tp+fp)*100, tp))"
   ]
  },
  {
   "cell_type": "code",
   "execution_count": 81,
   "id": "70dce9ab",
   "metadata": {},
   "outputs": [
    {
     "name": "stderr",
     "output_type": "stream",
     "text": [
      "WARNING:sagemaker.deprecations:The endpoint attribute has been renamed in sagemaker>=2.\n",
      "See: https://sagemaker.readthedocs.io/en/stable/v2.html for details.\n",
      "INFO:sagemaker:Deleting endpoint with name: sagemaker-xgboost-2024-04-06-00-21-40-209\n"
     ]
    },
    {
     "data": {
      "text/plain": [
       "[{'ResponseMetadata': {'RequestId': 'DAPZDVF1K0XBY08F',\n",
       "   'HostId': 'y41Z3qW5KDtayos3BhWUR1/4dTfoIB5Q+c9lLbOJys8BJKNuVX27nWuPZKmOiq9bQGz/zhxbRjQ=',\n",
       "   'HTTPStatusCode': 200,\n",
       "   'HTTPHeaders': {'x-amz-id-2': 'y41Z3qW5KDtayos3BhWUR1/4dTfoIB5Q+c9lLbOJys8BJKNuVX27nWuPZKmOiq9bQGz/zhxbRjQ=',\n",
       "    'x-amz-request-id': 'DAPZDVF1K0XBY08F',\n",
       "    'date': 'Sat, 06 Apr 2024 00:35:55 GMT',\n",
       "    'content-type': 'application/xml',\n",
       "    'transfer-encoding': 'chunked',\n",
       "    'server': 'AmazonS3',\n",
       "    'connection': 'close'},\n",
       "   'RetryAttempts': 0},\n",
       "  'Deleted': [{'Key': 'xgboost-as-a-built-in-algo/output/sagemaker-xgboost-2024-04-06-00-03-01-188/profiler-output/system/incremental/2024040600/1712361900.algo-1.json'},\n",
       "   {'Key': 'xgboost-as-a-built-in-algo/output/sagemaker-xgboost-2024-04-06-00-03-01-188/debug-output/collections/000000000/worker_0_collections.json'},\n",
       "   {'Key': 'xgboost-as-a-built-in-algo/output/sagemaker-xgboost-2024-04-06-00-03-01-188/debug-output/events/000000000020/000000000020_worker_0.tfevents'},\n",
       "   {'Key': 'xgboost-as-a-built-in-algo/output/sagemaker-xgboost-2024-04-06-00-03-01-188/debug-output/events/000000000030/000000000030_worker_0.tfevents'},\n",
       "   {'Key': 'xgboost-as-a-built-in-algo/output/sagemaker-xgboost-2024-04-06-00-03-01-188/debug-output/events/000000000040/000000000040_worker_0.tfevents'},\n",
       "   {'Key': 'xgboost-as-a-built-in-algo/output/sagemaker-xgboost-2024-04-06-00-03-01-188/debug-output/index/000000000/000000000000_worker_0.json'},\n",
       "   {'Key': 'xgboost-as-a-built-in-algo/output/sagemaker-xgboost-2024-04-06-00-03-01-188/output/model.tar.gz'},\n",
       "   {'Key': 'xgboost-as-a-built-in-algo/output/sagemaker-xgboost-2024-04-06-00-03-01-188/profiler-output/framework/training_job_end.ts'},\n",
       "   {'Key': 'xgboost-as-a-built-in-algo/output/sagemaker-xgboost-2024-04-06-00-03-01-188/debug-output/events/000000000000/000000000000_worker_0.tfevents'},\n",
       "   {'Key': 'xgboost-as-a-built-in-algo/output/sagemaker-xgboost-2024-04-06-00-03-01-188/debug-output/events/000000000010/000000000010_worker_0.tfevents'},\n",
       "   {'Key': 'xgboost-as-a-built-in-algo/output/sagemaker-xgboost-2024-04-06-00-03-01-188/debug-output/training_job_end.ts'},\n",
       "   {'Key': 'xgboost-as-a-built-in-algo/output/sagemaker-xgboost-2024-04-06-00-03-01-188/profiler-output/system/incremental/2024040600/1712361780.algo-1.json'},\n",
       "   {'Key': 'xgboost-as-a-built-in-algo/output/sagemaker-xgboost-2024-04-06-00-03-01-188/profiler-output/system/training_job_end.ts'},\n",
       "   {'Key': 'xgboost-as-a-built-in-algo/train/train.csv'},\n",
       "   {'Key': 'xgboost-as-a-built-in-algo/output/sagemaker-xgboost-2024-04-06-00-03-01-188/debug-output/index/000000000/000000000030_worker_0.json'},\n",
       "   {'Key': 'xgboost-as-a-built-in-algo/test/test.csv'},\n",
       "   {'Key': 'xgboost-as-a-built-in-algo/output/sagemaker-xgboost-2024-04-06-00-03-01-188/debug-output/index/000000000/000000000040_worker_0.json'},\n",
       "   {'Key': 'xgboost-as-a-built-in-algo/output/sagemaker-xgboost-2024-04-06-00-03-01-188/debug-output/claim.smd'},\n",
       "   {'Key': 'xgboost-as-a-built-in-algo/output/sagemaker-xgboost-2024-04-06-00-03-01-188/debug-output/index/000000000/000000000010_worker_0.json'},\n",
       "   {'Key': 'xgboost-as-a-built-in-algo/output/sagemaker-xgboost-2024-04-06-00-03-01-188/debug-output/index/000000000/000000000020_worker_0.json'},\n",
       "   {'Key': 'xgboost-as-a-built-in-algo/output/sagemaker-xgboost-2024-04-06-00-03-01-188/profiler-output/system/incremental/2024040600/1712361840.algo-1.json'}]}]"
      ]
     },
     "execution_count": 81,
     "metadata": {},
     "output_type": "execute_result"
    }
   ],
   "source": [
    "sagemaker.Session().delete_endpoint(xgb_predictor.endpoint)\n",
    "bucket_to_delete = boto3.resource('s3').Bucket(bucket_name)\n",
    "bucket_to_delete.objects.all().delete()"
   ]
  },
  {
   "cell_type": "code",
   "execution_count": null,
   "id": "86ac62b2",
   "metadata": {},
   "outputs": [],
   "source": []
  }
 ],
 "metadata": {
  "kernelspec": {
   "display_name": "conda_tensorflow2_p310",
   "language": "python",
   "name": "conda_tensorflow2_p310"
  },
  "language_info": {
   "codemirror_mode": {
    "name": "ipython",
    "version": 3
   },
   "file_extension": ".py",
   "mimetype": "text/x-python",
   "name": "python",
   "nbconvert_exporter": "python",
   "pygments_lexer": "ipython3",
   "version": "3.10.13"
  }
 },
 "nbformat": 4,
 "nbformat_minor": 5
}
